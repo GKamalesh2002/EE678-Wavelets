{
  "nbformat": 4,
  "nbformat_minor": 0,
  "metadata": {
    "colab": {
      "provenance": [],
      "toc_visible": true
    },
    "kernelspec": {
      "name": "python3",
      "display_name": "Python 3"
    },
    "language_info": {
      "name": "python"
    }
  },
  "cells": [
    {
      "cell_type": "code",
      "source": [
        "!pip install https://github.com/stefanloock/pyshearlab/archive/master.zip"
      ],
      "metadata": {
        "colab": {
          "base_uri": "https://localhost:8080/"
        },
        "id": "qmQ3KoKzNSY9",
        "outputId": "c7a84ce6-d2f7-4ac9-e148-f7abd50f37aa"
      },
      "execution_count": 1,
      "outputs": [
        {
          "output_type": "stream",
          "name": "stdout",
          "text": [
            "Collecting https://github.com/stefanloock/pyshearlab/archive/master.zip\n",
            "  Downloading https://github.com/stefanloock/pyshearlab/archive/master.zip\n",
            "\u001b[2K     \u001b[32m|\u001b[0m \u001b[32m99.8 kB\u001b[0m \u001b[31m498.9 kB/s\u001b[0m \u001b[33m0:00:00\u001b[0m\n",
            "\u001b[?25h  Preparing metadata (setup.py) ... \u001b[?25l\u001b[?25hdone\n",
            "Requirement already satisfied: numpy in /usr/local/lib/python3.10/dist-packages (from pyshearlab==0.0.1) (1.23.5)\n",
            "Requirement already satisfied: scipy in /usr/local/lib/python3.10/dist-packages (from pyshearlab==0.0.1) (1.11.3)\n",
            "Requirement already satisfied: pillow in /usr/local/lib/python3.10/dist-packages (from pyshearlab==0.0.1) (9.4.0)\n",
            "Requirement already satisfied: matplotlib in /usr/local/lib/python3.10/dist-packages (from pyshearlab==0.0.1) (3.7.1)\n",
            "Requirement already satisfied: contourpy>=1.0.1 in /usr/local/lib/python3.10/dist-packages (from matplotlib->pyshearlab==0.0.1) (1.2.0)\n",
            "Requirement already satisfied: cycler>=0.10 in /usr/local/lib/python3.10/dist-packages (from matplotlib->pyshearlab==0.0.1) (0.12.1)\n",
            "Requirement already satisfied: fonttools>=4.22.0 in /usr/local/lib/python3.10/dist-packages (from matplotlib->pyshearlab==0.0.1) (4.44.3)\n",
            "Requirement already satisfied: kiwisolver>=1.0.1 in /usr/local/lib/python3.10/dist-packages (from matplotlib->pyshearlab==0.0.1) (1.4.5)\n",
            "Requirement already satisfied: packaging>=20.0 in /usr/local/lib/python3.10/dist-packages (from matplotlib->pyshearlab==0.0.1) (23.2)\n",
            "Requirement already satisfied: pyparsing>=2.3.1 in /usr/local/lib/python3.10/dist-packages (from matplotlib->pyshearlab==0.0.1) (3.1.1)\n",
            "Requirement already satisfied: python-dateutil>=2.7 in /usr/local/lib/python3.10/dist-packages (from matplotlib->pyshearlab==0.0.1) (2.8.2)\n",
            "Requirement already satisfied: six>=1.5 in /usr/local/lib/python3.10/dist-packages (from python-dateutil>=2.7->matplotlib->pyshearlab==0.0.1) (1.16.0)\n",
            "Building wheels for collected packages: pyshearlab\n",
            "  Building wheel for pyshearlab (setup.py) ... \u001b[?25l\u001b[?25hdone\n",
            "  Created wheel for pyshearlab: filename=pyshearlab-0.0.1-py3-none-any.whl size=36593 sha256=507d988c3e672bb7af1611c497687dd7bab46cdcd55602134732053ffb1fc8e6\n",
            "  Stored in directory: /tmp/pip-ephem-wheel-cache-xkvelnao/wheels/ce/15/63/5986e906af5b4f646f016792f1f40af639710d02869648624f\n",
            "Successfully built pyshearlab\n",
            "Installing collected packages: pyshearlab\n",
            "Successfully installed pyshearlab-0.0.1\n"
          ]
        }
      ]
    },
    {
      "cell_type": "code",
      "source": [
        "!pip install fingerprint_enhancer"
      ],
      "metadata": {
        "colab": {
          "base_uri": "https://localhost:8080/"
        },
        "id": "zQN3Zdh2NeYK",
        "outputId": "6586fad3-5023-4b65-e252-5456d3f63b90"
      },
      "execution_count": 2,
      "outputs": [
        {
          "output_type": "stream",
          "name": "stdout",
          "text": [
            "Collecting fingerprint_enhancer\n",
            "  Downloading fingerprint_enhancer-0.0.13.tar.gz (9.0 kB)\n",
            "  Preparing metadata (setup.py) ... \u001b[?25l\u001b[?25hdone\n",
            "Requirement already satisfied: numpy in /usr/local/lib/python3.10/dist-packages (from fingerprint_enhancer) (1.23.5)\n",
            "Requirement already satisfied: opencv-python in /usr/local/lib/python3.10/dist-packages (from fingerprint_enhancer) (4.8.0.76)\n",
            "Requirement already satisfied: scipy in /usr/local/lib/python3.10/dist-packages (from fingerprint_enhancer) (1.11.3)\n",
            "Building wheels for collected packages: fingerprint_enhancer\n",
            "  Building wheel for fingerprint_enhancer (setup.py) ... \u001b[?25l\u001b[?25hdone\n",
            "  Created wheel for fingerprint_enhancer: filename=fingerprint_enhancer-0.0.13-py3-none-any.whl size=8907 sha256=55c33b2ca67556286b1195b171c57f359bee1da52c59b1a6961b0efb20968dfe\n",
            "  Stored in directory: /root/.cache/pip/wheels/91/ae/50/978165dd230375061475f4594febfe8a42869c4cc5374f9740\n",
            "Successfully built fingerprint_enhancer\n",
            "Installing collected packages: fingerprint_enhancer\n",
            "Successfully installed fingerprint_enhancer-0.0.13\n"
          ]
        }
      ]
    },
    {
      "cell_type": "code",
      "source": [
        "!pip install kymatio"
      ],
      "metadata": {
        "colab": {
          "base_uri": "https://localhost:8080/",
          "height": 304
        },
        "id": "67-0xkL7NpA5",
        "outputId": "ab6f2741-5f7f-4c27-9ef6-249408cd243d"
      },
      "execution_count": 3,
      "outputs": [
        {
          "output_type": "stream",
          "name": "stdout",
          "text": [
            "Collecting kymatio\n",
            "  Downloading kymatio-0.3.0-py3-none-any.whl (87 kB)\n",
            "\u001b[?25l     \u001b[90m━━━━━━━━━━━━━━━━━━━━━━━━━━━━━━━━━━━━━━━━\u001b[0m \u001b[32m0.0/87.6 kB\u001b[0m \u001b[31m?\u001b[0m eta \u001b[36m-:--:--\u001b[0m\r\u001b[2K     \u001b[90m━━━━━━━━━━━━━━━━━━━━━━━━━━━━━━━━━━━━━━━━\u001b[0m \u001b[32m87.6/87.6 kB\u001b[0m \u001b[31m3.8 MB/s\u001b[0m eta \u001b[36m0:00:00\u001b[0m\n",
            "\u001b[?25hRequirement already satisfied: appdirs in /usr/local/lib/python3.10/dist-packages (from kymatio) (1.4.4)\n",
            "Collecting configparser (from kymatio)\n",
            "  Downloading configparser-6.0.0-py3-none-any.whl (19 kB)\n",
            "Requirement already satisfied: numpy in /usr/local/lib/python3.10/dist-packages (from kymatio) (1.23.5)\n",
            "Requirement already satisfied: packaging in /usr/local/lib/python3.10/dist-packages (from kymatio) (23.2)\n",
            "Requirement already satisfied: scipy in /usr/local/lib/python3.10/dist-packages (from kymatio) (1.11.3)\n",
            "Installing collected packages: configparser, kymatio\n",
            "Successfully installed configparser-6.0.0 kymatio-0.3.0\n"
          ]
        },
        {
          "output_type": "display_data",
          "data": {
            "application/vnd.colab-display-data+json": {
              "pip_warning": {
                "packages": [
                  "configparser"
                ]
              }
            }
          },
          "metadata": {}
        }
      ]
    },
    {
      "cell_type": "code",
      "source": [
        "!pip install torchsummary"
      ],
      "metadata": {
        "colab": {
          "base_uri": "https://localhost:8080/"
        },
        "id": "lUR-CHb_b5RE",
        "outputId": "688b092f-d8ec-4a11-904c-7dae50e3fc40"
      },
      "execution_count": 4,
      "outputs": [
        {
          "output_type": "stream",
          "name": "stdout",
          "text": [
            "Requirement already satisfied: torchsummary in /usr/local/lib/python3.10/dist-packages (1.5.1)\n"
          ]
        }
      ]
    },
    {
      "cell_type": "code",
      "source": [
        "from google.colab import drive\n",
        "drive.mount('/content/drive')"
      ],
      "metadata": {
        "colab": {
          "base_uri": "https://localhost:8080/"
        },
        "id": "ZskMcEy5SLih",
        "outputId": "4b59c387-847b-4269-b772-256436046321"
      },
      "execution_count": 5,
      "outputs": [
        {
          "output_type": "stream",
          "name": "stdout",
          "text": [
            "Mounted at /content/drive\n"
          ]
        }
      ]
    },
    {
      "cell_type": "code",
      "source": [
        "from keras.models import Model, Sequential\n",
        "from keras.optimizers import Adam\n",
        "from keras.layers import Dense, Dropout, Flatten, Convolution2D, MaxPooling2D,ZeroPadding2D\n",
        "from keras.layers import Input, Lambda\n",
        "from keras.utils import to_categorical\n",
        "from keras.datasets import mnist\n",
        "from keras import backend as K\n",
        "import numpy as np\n",
        "import matplotlib.pyplot as plt\n",
        "from sklearn.manifold import TSNE\n",
        "import matplotlib.pyplot as plt"
      ],
      "metadata": {
        "id": "iMCC_LelOeIr"
      },
      "execution_count": 6,
      "outputs": []
    },
    {
      "cell_type": "code",
      "source": [
        "from google.colab.patches import cv2_imshow\n",
        "from PIL import Image\n",
        "import numpy as np\n",
        "from scipy import io as sio\n",
        "# import pyshearlab\n",
        "import imageio\n",
        "import fingerprint_enhancer\t\t\t\t\t\t\t\t# Load the library\n",
        "import cv2\n",
        "import matplotlib as mpl\n",
        "import matplotlib.cm as cm\n",
        "import matplotlib.pyplot as plt\n",
        "from matplotlib import gridspec\n",
        "import os\n",
        "from sklearn import metrics as sklearn_metrics\n",
        "from sklearn.model_selection import train_test_split\n",
        "import tensorflow as tf\n",
        "from tensorflow import keras\n",
        "import sys\n",
        "from tqdm import tqdm\n",
        "from tensorflow.keras import layers, models , optimizers , losses ,activations , callbacks, metrics\n",
        "from tensorflow.keras.layers import Layer\n",
        "from tensorflow.keras.applications import vgg16"
      ],
      "metadata": {
        "id": "paBh-mrBRl9G"
      },
      "execution_count": 7,
      "outputs": []
    },
    {
      "cell_type": "code",
      "source": [
        "import torch\n",
        "import torch.nn as nn\n",
        "import torch.optim as optim\n",
        "import torchvision.transforms as transforms\n",
        "from torch.utils.data import DataLoader\n",
        "from torchvision.datasets import ImageFolder\n",
        "\n",
        "# Define the Scattering Transform\n",
        "from kymatio.torch import Scattering2D"
      ],
      "metadata": {
        "id": "YcFhoBL3S9ve"
      },
      "execution_count": 8,
      "outputs": []
    },
    {
      "cell_type": "code",
      "source": [
        "import os\n",
        "import random\n",
        "import numpy as np\n",
        "import cv2\n",
        "import fingerprint_enhancer  # Make sure this library is imported\n",
        "\n",
        "class FingerprintTripletGenerator:\n",
        "    def __init__(self, datasetPath):\n",
        "        self.personDict = self.generate_person_dictionary(datasetPath)\n",
        "\n",
        "    def generate_person_dictionary(self, datasetPath):\n",
        "        personDict = {}\n",
        "        for filename in os.listdir(datasetPath):\n",
        "            person_name, image_number = filename.split('_')\n",
        "            if person_name not in personDict:\n",
        "                personDict[person_name] = []\n",
        "            personDict[person_name].append(filename)\n",
        "        return personDict\n",
        "\n",
        "    def preprocess_image(self, img_path):\n",
        "        img = cv2.imread(img_path, 0)\n",
        "        out = fingerprint_enhancer.enhance_Fingerprint(img)\n",
        "        return out\n",
        "\n",
        "    def get_next_element_for_person(self, person_name):\n",
        "        anchorPhoto = random.choice(self.personDict[person_name])\n",
        "\n",
        "        # Make sure the anchor image is not selected as positive\n",
        "        positivePhoto = random.choice(self.personDict[person_name])\n",
        "        while positivePhoto == anchorPhoto:\n",
        "            positivePhoto = random.choice(self.personDict[person_name])\n",
        "\n",
        "        # Select a different person for the negative sample\n",
        "        negativePerson = random.choice(list(self.personDict.keys()))\n",
        "        while negativePerson == person_name:\n",
        "            negativePerson = random.choice(list(self.personDict.keys()))\n",
        "\n",
        "        # Select a random image from the negative person\n",
        "        negativePhoto = random.choice(self.personDict[negativePerson])\n",
        "\n",
        "        # Preprocess images\n",
        "        anchor_img = self.preprocess_image(os.path.join(datasetPath, anchorPhoto))\n",
        "        positive_img = self.preprocess_image(os.path.join(datasetPath, positivePhoto))\n",
        "        negative_img = self.preprocess_image(os.path.join(datasetPath, negativePhoto))\n",
        "\n",
        "        return anchor_img, positive_img, negative_img\n",
        "\n",
        "# Example usage\n",
        "datasetPath = \"/content/drive/MyDrive/Scanner\"\n",
        "fingerprint_generator = FingerprintTripletGenerator(datasetPath)"
      ],
      "metadata": {
        "id": "mgNyv2nZ4lhN"
      },
      "execution_count": 9,
      "outputs": []
    },
    {
      "cell_type": "code",
      "source": [
        "#Choose a specific number of keys to use for training data\n",
        "num_keys_for_training = 200  # You can set this to your desired number\n",
        "training_data = []\n",
        "\n",
        "selected_keys = random.sample(list(fingerprint_generator.personDict.keys()), num_keys_for_training)\n",
        "# print(selected_keys)\n",
        "anchor_images = []\n",
        "positive_images = []\n",
        "negative_images = []\n",
        "for person in selected_keys:\n",
        "    anchor_img, positive_img, negative_img = fingerprint_generator.get_next_element_for_person(person)\n",
        "    # Assuming shearlet_transform is a function you have defined for your preprocessing\n",
        "    pad_width = 30\n",
        "    anchor_img = np.pad(anchor_img, (pad_width, pad_width), mode='constant', constant_values=0)\n",
        "    positive_img = np.pad(positive_img, (pad_width, pad_width), mode='constant', constant_values=0)\n",
        "    negative_img = np.pad(negative_img, (pad_width, pad_width), mode='constant', constant_values=0)\n",
        "    anchor_images.append(np.array(Image.fromarray(anchor_img).resize((320,320))))\n",
        "    positive_images.append(np.array(Image.fromarray(positive_img).resize((320,320))))\n",
        "    negative_images.append(np.array(Image.fromarray(negative_img).resize((320,320))))\n",
        "    # training_data.append([shearlet_transform(anchor_img), shearlet_transform(positive_img), shearlet_transform(negative_img)])"
      ],
      "metadata": {
        "id": "CQcymWLk4sDW"
      },
      "execution_count": null,
      "outputs": []
    },
    {
      "cell_type": "code",
      "source": [
        "save_path = '/content/drive/MyDrive/training_data.npz'\n",
        "np.savez(save_path, anchor=anchor_images, positive=positive_images, negative=negative_images)"
      ],
      "metadata": {
        "id": "N6kCDJWf2fjA"
      },
      "execution_count": null,
      "outputs": []
    },
    {
      "cell_type": "code",
      "source": [
        "save_path = '/content/drive/MyDrive/training_data.npz'\n",
        "loaded_data = np.load(save_path)\n",
        "loaded_anchor_images = loaded_data['anchor']\n",
        "loaded_positive_images = loaded_data['positive']\n",
        "loaded_negative_images = loaded_data['negative']"
      ],
      "metadata": {
        "id": "cDy6FlOnSGGu"
      },
      "execution_count": 10,
      "outputs": []
    },
    {
      "cell_type": "code",
      "source": [
        "loaded_anchor_images.shape"
      ],
      "metadata": {
        "colab": {
          "base_uri": "https://localhost:8080/"
        },
        "id": "nn8Fgap62wYY",
        "outputId": "535a285d-d6ee-4f71-b062-a706e6b3624c"
      },
      "execution_count": 11,
      "outputs": [
        {
          "output_type": "execute_result",
          "data": {
            "text/plain": [
              "(200, 320, 320)"
            ]
          },
          "metadata": {},
          "execution_count": 11
        }
      ]
    },
    {
      "cell_type": "code",
      "source": [
        "cv2_imshow(np.array(loaded_anchor_images[0]))"
      ],
      "metadata": {
        "colab": {
          "base_uri": "https://localhost:8080/",
          "height": 337
        },
        "id": "qctNWmo-Jbpe",
        "outputId": "5c6dbbb8-20e2-4878-afd4-0842f7849fa7"
      },
      "execution_count": 12,
      "outputs": [
        {
          "output_type": "display_data",
          "data": {
            "text/plain": [
              "<PIL.Image.Image image mode=L size=320x320>"
            ],
            "image/png": "[encoded data removed]"
          },
          "metadata": {}
        }
      ]
    },
    {
      "cell_type": "code",
      "source": [
        "loaded_anchor_images = np.resize(loaded_anchor_images,(200,1,320,320))\n",
        "loaded_positive_images = np.resize(loaded_positive_images,(200,1,320,320))\n",
        "loaded_negative_images = np.resize(loaded_negative_images,(200,1,320,320))"
      ],
      "metadata": {
        "id": "VcTLbydaSkR7"
      },
      "execution_count": 13,
      "outputs": []
    },
    {
      "cell_type": "code",
      "source": [
        "cv2_imshow(np.array(loaded_anchor_images[7].reshape(320,320)))"
      ],
      "metadata": {
        "colab": {
          "base_uri": "https://localhost:8080/",
          "height": 337
        },
        "id": "ouKwrCwlJ3NB",
        "outputId": "fd5c5207-8070-4d87-f64d-6aea3fb1a37c"
      },
      "execution_count": 14,
      "outputs": [
        {
          "output_type": "display_data",
          "data": {
            "text/plain": [
              "<PIL.Image.Image image mode=L size=320x320>"
            ],
            "image/png": "[encoded data removed]"
          },
          "metadata": {}
        }
      ]
    },
    {
      "cell_type": "code",
      "source": [
        "import torch\n",
        "from torch.utils.data import Dataset, DataLoader,random_split\n",
        "\n",
        "class TripletDataset(Dataset):\n",
        "    def __init__(self, anchor_images, positive_images, negative_images,shape = (320,320), transform=None):\n",
        "        self.anchor_images = anchor_images\n",
        "        self.positive_images = positive_images\n",
        "        self.negative_images = negative_images\n",
        "        self.transform = transform\n",
        "\n",
        "    def __len__(self):\n",
        "        return len(self.anchor_images)\n",
        "\n",
        "    def __getitem__(self, idx):\n",
        "        anchor = self.anchor_images[idx]\n",
        "        positive = self.positive_images[idx]\n",
        "        negative = self.negative_images[idx]\n",
        "\n",
        "        # Apply transformations if provided\n",
        "        if self.transform:\n",
        "            anchor = self.transform(anchor)\n",
        "            positive = self.transform(positive)\n",
        "            negative = self.transform(negative)\n",
        "\n",
        "        return anchor, positive, negative\n",
        "\n",
        "# Assuming loaded_anchor_images, loaded_positive_images, loaded_negative_images are lists of image data\n",
        "# Make sure each list has the same length\n",
        "\n",
        "# # Create a TripletDataset\n",
        "# transform = transforms.Compose([transforms.ToTensor()])  # Add your custom transformations\n",
        "# triplet_dataset = TripletDataset(loaded_anchor_images, loaded_positive_images, loaded_negative_images, transform)"
      ],
      "metadata": {
        "id": "pDOtu_eESn8B"
      },
      "execution_count": 15,
      "outputs": []
    },
    {
      "cell_type": "code",
      "source": [
        "scattering = Scattering2D(J = 4,L = 6,max_order = 1,shape=(320, 320))\n",
        "anchor_scattering_J4_L6 = scattering(torch.from_numpy(loaded_anchor_images/255.0).float())\n",
        "positive_scattering_J4_L6 = scattering(torch.from_numpy(loaded_positive_images/255.0).float())\n",
        "negative_scattering_J4_L6 = scattering(torch.from_numpy(loaded_negative_images/255.0).float())"
      ],
      "metadata": {
        "id": "E3rnYKjdTCbl"
      },
      "execution_count": 17,
      "outputs": []
    },
    {
      "cell_type": "code",
      "source": [
        "shape = anchor_scattering_J4_L6.shape\n",
        "anchor_scattering_J4_L6 = np.reshape(anchor_scattering_J4_L6,(shape[0],shape[1]*shape[2],shape[3],shape[4]))\n",
        "positive_scattering_J4_L6 = np.reshape(positive_scattering_J4_L6,(shape[0],shape[1]*shape[2],shape[3],shape[4]))\n",
        "negative_scattering_J4_L6 = np.reshape(negative_scattering_J4_L6,(shape[0],shape[1]*shape[2],shape[3],shape[4]))"
      ],
      "metadata": {
        "id": "ilVpmPfTlB0h"
      },
      "execution_count": 23,
      "outputs": []
    },
    {
      "cell_type": "code",
      "execution_count": 42,
      "metadata": {
        "id": "fUq2O0V9NPeF"
      },
      "outputs": [],
      "source": [
        "import torch\n",
        "import torch.nn as nn\n",
        "import torch.optim as optim\n",
        "import torch.nn.functional as F\n",
        "\n",
        "class EmbeddingModel(nn.Module):\n",
        "    def __init__(self):\n",
        "        super(EmbeddingModel, self).__init__()\n",
        "        self.bn1 = nn.BatchNorm2d(24)\n",
        "        self.conv1 = nn.Conv2d(24, 32, kernel_size=3, stride=1)# 18,18\n",
        "        self.bn2 = nn.BatchNorm2d(32)\n",
        "        self.conv2 = nn.Conv2d(32, 32, kernel_size=3, stride=1)# 16,16\n",
        "        self.bn3 = nn.BatchNorm2d(32)\n",
        "        self.pool = nn.MaxPool2d(kernel_size=2, stride=2)# 8,8\n",
        "        self.bn4 = nn.BatchNorm2d(32)\n",
        "        self.conv3 = nn.Conv2d(32, 64, kernel_size=3, stride=1)# 6,6\n",
        "        self.bn5 = nn.BatchNorm2d(64)\n",
        "        self.conv4 = nn.Conv2d(64, 64, kernel_size=3, stride=1)# 4,4\n",
        "        self.bn6 = nn.BatchNorm2d(64)\n",
        "        self.fc1 = nn.Linear(64 * 4 * 4, 512)\n",
        "        # self.fc2 = nn.Linear(1024, 512)\n",
        "\n",
        "    def forward(self, x):\n",
        "        x = F.relu(self.bn2(self.conv1(self.bn1(x))))\n",
        "        x = F.relu(self.bn3(self.conv2(x)))\n",
        "        x = self.pool(x)\n",
        "        x = F.relu(self.bn5(self.conv3(self.bn4(x))))\n",
        "        x = F.relu(self.bn6(self.conv4(x)))\n",
        "        x = x.view(-1, 64 * 4 * 4)\n",
        "        x = F.relu(self.fc1(x))\n",
        "        # x = F.dropout(x, training=self.training)\n",
        "        # x = self.fc2(x)\n",
        "        return x\n",
        "\n",
        "class TripletNet(nn.Module):\n",
        "    def __init__(self, embedding_model):\n",
        "        super(TripletNet, self).__init__()\n",
        "        self.embedding_model = embedding_model\n",
        "\n",
        "    def forward(self, anchor, positive, negative):\n",
        "        output_anchor = self.embedding_model(anchor)\n",
        "        output_positive = self.embedding_model(positive)\n",
        "        output_negative = self.embedding_model(negative)\n",
        "        return output_anchor, output_positive, output_negative\n",
        "\n",
        "# Example usage:\n",
        "imsize = 20\n",
        "embedding_model = EmbeddingModel()\n",
        "triplet_net = TripletNet(embedding_model)\n",
        "optimizer = optim.Adam(triplet_net.parameters(), lr=0.001)"
      ]
    },
    {
      "cell_type": "code",
      "source": [
        "from torchsummary import summary\n",
        "\n",
        "# Assuming your device is 'cuda' if available, else 'cpu'\n",
        "device = torch.device('cuda' if torch.cuda.is_available() else 'cpu')\n",
        "\n",
        "# Move the model to the device\n",
        "triplet_net.to(device)\n",
        "imsize = 20\n",
        "# Print the summary\n",
        "result = summary(triplet_net, [(24, imsize, imsize), (24, imsize, imsize), (24, imsize, imsize)])"
      ],
      "metadata": {
        "colab": {
          "base_uri": "https://localhost:8080/"
        },
        "id": "Zo_BOWiB5eu9",
        "outputId": "666b97b8-5af6-4170-a4f9-018f798ba0ef"
      },
      "execution_count": 43,
      "outputs": [
        {
          "output_type": "stream",
          "name": "stdout",
          "text": [
            "----------------------------------------------------------------\n",
            "        Layer (type)               Output Shape         Param #\n",
            "================================================================\n",
            "       BatchNorm2d-1           [-1, 24, 20, 20]              48\n",
            "            Conv2d-2           [-1, 32, 18, 18]           6,944\n",
            "       BatchNorm2d-3           [-1, 32, 18, 18]              64\n",
            "            Conv2d-4           [-1, 32, 16, 16]           9,248\n",
            "       BatchNorm2d-5           [-1, 32, 16, 16]              64\n",
            "         MaxPool2d-6             [-1, 32, 8, 8]               0\n",
            "       BatchNorm2d-7             [-1, 32, 8, 8]              64\n",
            "            Conv2d-8             [-1, 64, 6, 6]          18,496\n",
            "       BatchNorm2d-9             [-1, 64, 6, 6]             128\n",
            "           Conv2d-10             [-1, 64, 4, 4]          36,928\n",
            "      BatchNorm2d-11             [-1, 64, 4, 4]             128\n",
            "           Linear-12                  [-1, 512]         524,800\n",
            "   EmbeddingModel-13                  [-1, 512]               0\n",
            "      BatchNorm2d-14           [-1, 24, 20, 20]              48\n",
            "           Conv2d-15           [-1, 32, 18, 18]           6,944\n",
            "      BatchNorm2d-16           [-1, 32, 18, 18]              64\n",
            "           Conv2d-17           [-1, 32, 16, 16]           9,248\n",
            "      BatchNorm2d-18           [-1, 32, 16, 16]              64\n",
            "        MaxPool2d-19             [-1, 32, 8, 8]               0\n",
            "      BatchNorm2d-20             [-1, 32, 8, 8]              64\n",
            "           Conv2d-21             [-1, 64, 6, 6]          18,496\n",
            "      BatchNorm2d-22             [-1, 64, 6, 6]             128\n",
            "           Conv2d-23             [-1, 64, 4, 4]          36,928\n",
            "      BatchNorm2d-24             [-1, 64, 4, 4]             128\n",
            "           Linear-25                  [-1, 512]         524,800\n",
            "   EmbeddingModel-26                  [-1, 512]               0\n",
            "      BatchNorm2d-27           [-1, 24, 20, 20]              48\n",
            "           Conv2d-28           [-1, 32, 18, 18]           6,944\n",
            "      BatchNorm2d-29           [-1, 32, 18, 18]              64\n",
            "           Conv2d-30           [-1, 32, 16, 16]           9,248\n",
            "      BatchNorm2d-31           [-1, 32, 16, 16]              64\n",
            "        MaxPool2d-32             [-1, 32, 8, 8]               0\n",
            "      BatchNorm2d-33             [-1, 32, 8, 8]              64\n",
            "           Conv2d-34             [-1, 64, 6, 6]          18,496\n",
            "      BatchNorm2d-35             [-1, 64, 6, 6]             128\n",
            "           Conv2d-36             [-1, 64, 4, 4]          36,928\n",
            "      BatchNorm2d-37             [-1, 64, 4, 4]             128\n",
            "           Linear-38                  [-1, 512]         524,800\n",
            "   EmbeddingModel-39                  [-1, 512]               0\n",
            "================================================================\n",
            "Total params: 1,790,736\n",
            "Trainable params: 1,790,736\n",
            "Non-trainable params: 0\n",
            "----------------------------------------------------------------\n",
            "Input size (MB): 3375000.00\n",
            "Forward/backward pass size (MB): 1.34\n",
            "Params size (MB): 6.83\n",
            "Estimated Total Size (MB): 3375008.17\n",
            "----------------------------------------------------------------\n"
          ]
        }
      ]
    },
    {
      "cell_type": "code",
      "source": [
        "transform = transforms.Compose([transforms.ToTensor()])  # Add your custom transformations\n",
        "triplet_dataset = TripletDataset(anchor_scattering_J4_L6[:,1:,:,:], positive_scattering_J4_L6[:,1:,:,:], negative_scattering_J4_L6[:,1:,:,:], transform)\n",
        "train_size = int(0.7 * 200)\n",
        "val_size = int(0.15 * 200)\n",
        "test_size = len(triplet_dataset) - train_size - val_size\n",
        "\n",
        "# Use random_split to split the dataset into training, validation, and test sets\n",
        "train_dataset, val_dataset, test_dataset = random_split(triplet_dataset, [train_size, val_size, test_size])\n",
        "\n",
        "# Define data loaders for training, validation, and testing\n",
        "train_dataloader = DataLoader(train_dataset, batch_size=8, shuffle=True)\n",
        "val_dataloader = DataLoader(val_dataset, batch_size=8, shuffle=False)\n",
        "test_dataloader = DataLoader(test_dataset, batch_size=8, shuffle=False)\n",
        "# Now you can use this dataloader in your training loop"
      ],
      "metadata": {
        "id": "co1TlvgKdz54"
      },
      "execution_count": 44,
      "outputs": []
    },
    {
      "cell_type": "code",
      "source": [
        "import torch\n",
        "import torch.nn as nn\n",
        "import torch.optim as optim\n",
        "from torch.utils.data import DataLoader\n",
        "\n",
        "# Assuming you have a function to calculate accuracy\n",
        "def calculate_accuracy(output_anchor, output_positive, output_negative):\n",
        "    pos_dist = (output_anchor - output_positive).pow(2).sum(1)\n",
        "    neg_dist = (output_anchor - output_negative).pow(2).sum(1)\n",
        "\n",
        "    # If positive distance is smaller than negative distance, it's a correct match\n",
        "    correct_matches = (pos_dist < neg_dist).float().sum()\n",
        "\n",
        "    # Calculate accuracy as the ratio of correct matches to the total number of samples\n",
        "    accuracy = correct_matches / len(output_anchor)\n",
        "\n",
        "    return accuracy.item()\n",
        "\n",
        "num_epochs = 20\n",
        "train_accuracies = []\n",
        "val_accuracies = []\n",
        "train_losses = []\n",
        "triplet_net.train()\n",
        "\n",
        "# Assuming you have train_dataloader and val_dataloader for training and validation\n",
        "for epoch in range(num_epochs):\n",
        "    total_loss = 0.0\n",
        "    total_accuracy = 0.0\n",
        "\n",
        "    # Training phase\n",
        "    triplet_net.train()\n",
        "    for batch in train_dataloader:\n",
        "        anchor, positive, negative = batch\n",
        "        optimizer.zero_grad()\n",
        "        output_anchor, output_positive, output_negative = triplet_net(anchor, positive, negative)\n",
        "\n",
        "        # Assuming you have a triplet loss implementation\n",
        "        margin = 1.0\n",
        "        triplet_margin_loss = nn.TripletMarginLoss(margin=margin)\n",
        "\n",
        "        # Calculate the loss\n",
        "        loss = triplet_margin_loss(output_anchor, output_positive, output_negative)\n",
        "        loss.backward()\n",
        "        optimizer.step()\n",
        "\n",
        "        # Calculate accuracy\n",
        "        accuracy = calculate_accuracy(output_anchor, output_positive, output_negative)\n",
        "        total_accuracy += accuracy\n",
        "        total_loss += loss.item()\n",
        "\n",
        "    average_loss = total_loss / len(train_dataloader)\n",
        "    average_accuracy = total_accuracy / len(train_dataloader)\n",
        "    train_accuracies.append(average_accuracy)\n",
        "    train_losses.append(average_loss)\n",
        "\n",
        "    # Validation phase\n",
        "    triplet_net.eval()\n",
        "    total_val_accuracy = 0.0\n",
        "    with torch.no_grad():\n",
        "        for val_batch in val_dataloader:\n",
        "            val_anchor, val_positive, val_negative = val_batch\n",
        "            val_output_anchor, val_output_positive, val_output_negative = triplet_net(val_anchor, val_positive, val_negative)\n",
        "\n",
        "            # Calculate validation accuracy\n",
        "            val_accuracy = calculate_accuracy(val_output_anchor, val_output_positive, val_output_negative)\n",
        "            total_val_accuracy += val_accuracy\n",
        "\n",
        "    average_val_accuracy = total_val_accuracy / len(val_dataloader)\n",
        "    val_accuracies.append(average_val_accuracy)\n",
        "\n",
        "\n",
        "    print(f'Epoch {epoch + 1}/{num_epochs}, Loss: {average_loss}, Accuracy: {average_accuracy}, Val Accuracy: {average_val_accuracy}')\n"
      ],
      "metadata": {
        "colab": {
          "base_uri": "https://localhost:8080/"
        },
        "id": "pCd3Nifu5aUp",
        "outputId": "6b30458f-e308-4c65-8c6e-822bdb0f0595"
      },
      "execution_count": 45,
      "outputs": [
        {
          "output_type": "stream",
          "name": "stdout",
          "text": [
            "Epoch 1/20, Loss: 0.4083905087576972, Accuracy: 0.8402777777777778, Val Accuracy: 0.8958333283662796\n",
            "Epoch 2/20, Loss: 0.30956101086404586, Accuracy: 0.8958333333333334, Val Accuracy: 0.90625\n",
            "Epoch 3/20, Loss: 0.24617703755696616, Accuracy: 0.9236111111111112, Val Accuracy: 0.8020833283662796\n",
            "Epoch 4/20, Loss: 0.3503368530008528, Accuracy: 0.8819444444444444, Val Accuracy: 0.8645833283662796\n",
            "Epoch 5/20, Loss: 0.2538481288486057, Accuracy: 0.9444444444444444, Val Accuracy: 0.96875\n",
            "Epoch 6/20, Loss: 0.1586158126592636, Accuracy: 0.9652777777777778, Val Accuracy: 0.8958333283662796\n",
            "Epoch 7/20, Loss: 0.2582365903589461, Accuracy: 0.9305555555555556, Val Accuracy: 0.8854166716337204\n",
            "Epoch 8/20, Loss: 0.19586346877945793, Accuracy: 0.9375, Val Accuracy: 0.9583333283662796\n",
            "Epoch 9/20, Loss: 0.05309063196182251, Accuracy: 0.9930555555555556, Val Accuracy: 0.9270833283662796\n",
            "Epoch 10/20, Loss: 0.12375852796766493, Accuracy: 0.9513888888888888, Val Accuracy: 0.8854166716337204\n",
            "Epoch 11/20, Loss: 0.2180236577987671, Accuracy: 0.9375, Val Accuracy: 0.8958333283662796\n",
            "Epoch 12/20, Loss: 0.23776314655939737, Accuracy: 0.9236111111111112, Val Accuracy: 0.8645833283662796\n",
            "Epoch 13/20, Loss: 0.08964496188693577, Accuracy: 0.9652777777777778, Val Accuracy: 0.9270833283662796\n",
            "Epoch 14/20, Loss: 0.01938252978854709, Accuracy: 0.9930555555555556, Val Accuracy: 0.9270833283662796\n",
            "Epoch 15/20, Loss: 0.08865555127461751, Accuracy: 0.9652777777777778, Val Accuracy: 0.8958333283662796\n",
            "Epoch 16/20, Loss: 0.047842317157321505, Accuracy: 0.9861111111111112, Val Accuracy: 0.9270833283662796\n",
            "Epoch 17/20, Loss: 0.16216499275631374, Accuracy: 0.9375, Val Accuracy: 0.8854166716337204\n",
            "Epoch 18/20, Loss: 0.03426635265350342, Accuracy: 0.9930555555555556, Val Accuracy: 0.8125\n",
            "Epoch 19/20, Loss: 0.06251664956410725, Accuracy: 0.9791666666666666, Val Accuracy: 0.9270833283662796\n",
            "Epoch 20/20, Loss: 0.027018719249301486, Accuracy: 0.9930555555555556, Val Accuracy: 0.8645833283662796\n"
          ]
        }
      ]
    },
    {
      "cell_type": "code",
      "source": [
        "# Plotting the training and validation accuracies\n",
        "plt.plot(range(1, num_epochs + 1), train_accuracies, label='Training Accuracy')\n",
        "plt.plot(range(1, num_epochs + 1), val_accuracies, label='Validation Accuracy')\n",
        "plt.xlabel('Epoch')\n",
        "plt.ylabel('Accuracy')\n",
        "plt.ylim(0.5,1)\n",
        "plt.title('Training and Validation Accuracies')\n",
        "plt.legend()\n",
        "plt.show()"
      ],
      "metadata": {
        "colab": {
          "base_uri": "https://localhost:8080/",
          "height": 472
        },
        "id": "KJBQN06DTuaM",
        "outputId": "7ebfa729-455b-462e-e189-48f09f64ac61"
      },
      "execution_count": 46,
      "outputs": [
        {
          "output_type": "display_data",
          "data": {
            "text/plain": [
              "<Figure size 640x480 with 1 Axes>"
            ],
            "image/png": "[encoded data removed]"
          },
          "metadata": {}
        }
      ]
    },
    {
      "cell_type": "code",
      "source": [
        "# Plotting the training and validation accuracies\n",
        "plt.plot(range(1, num_epochs + 1), train_losses, label='Training Loss')\n",
        "# plt.plot(range(1, num_epochs + 1), val_accuracies, label='Validation Accuracy')\n",
        "plt.xlabel('Epoch')\n",
        "plt.ylabel('Training Loss')\n",
        "plt.title('Training Losses')\n",
        "plt.ylim(0,0.6)\n",
        "plt.legend()\n",
        "plt.show()"
      ],
      "metadata": {
        "colab": {
          "base_uri": "https://localhost:8080/",
          "height": 472
        },
        "id": "4anovDN5Z_JY",
        "outputId": "64e9940f-3888-4e30-fc70-09e894b0da59"
      },
      "execution_count": 49,
      "outputs": [
        {
          "output_type": "display_data",
          "data": {
            "text/plain": [
              "<Figure size 640x480 with 1 Axes>"
            ],
            "image/png": "[encoded data removed]"
          },
          "metadata": {}
        }
      ]
    },
    {
      "cell_type": "code",
      "source": [
        "import torch\n",
        "from torch.utils.data import DataLoader\n",
        "\n",
        "# Assuming you have a test_dataloader for testing\n",
        "# Modify this based on your actual dataset and model\n",
        "\n",
        "# Set the model to evaluation mode\n",
        "triplet_net.eval()\n",
        "\n",
        "# Lists to store anchor, positive, and negative distances\n",
        "all_positive_distances = []\n",
        "all_negative_distances = []\n",
        "predictions = []\n",
        "\n",
        "# Iterate over the test dataset\n",
        "with torch.no_grad():\n",
        "    for test_batch in test_dataloader:\n",
        "        test_anchor, test_positive, test_negative = test_batch\n",
        "\n",
        "        # Get embeddings from the model\n",
        "        anchor_embedding = embedding_model(test_anchor)\n",
        "        positive_embedding = embedding_model(test_positive)\n",
        "        negative_embedding = embedding_model(test_negative)\n",
        "\n",
        "        # Calculate distances\n",
        "        positive_distance = torch.sum((anchor_embedding - positive_embedding).pow(2), dim=1)\n",
        "        negative_distance = torch.sum((anchor_embedding - negative_embedding).pow(2), dim=1)\n",
        "\n",
        "        # Append distances to the lists\n",
        "        predictions.append((positive_distance < negative_distance))\n",
        "        all_positive_distances.extend(positive_distance.cpu().numpy())\n",
        "        all_negative_distances.extend(negative_distance.cpu().numpy())\n",
        "\n",
        "# Convert lists to PyTorch tensors\n",
        "all_positive_distances = torch.tensor(all_positive_distances)\n",
        "all_negative_distances = torch.tensor(all_negative_distances)\n",
        "\n",
        "# Calculate accuracy based on distances\n",
        "# print(all_positive_distances)\n",
        "# print(all_negative_distances)\n",
        "correct_matches = (all_positive_distances < all_negative_distances).sum().item()\n",
        "total_samples = len(all_positive_distances)\n",
        "accuracy = correct_matches / total_samples\n",
        "\n",
        "print(f'Test Accuracy: {accuracy :.5f}%')"
      ],
      "metadata": {
        "colab": {
          "base_uri": "https://localhost:8080/"
        },
        "id": "8sZWXO678GLr",
        "outputId": "b63ca6d0-adcc-494c-fad7-372bd22cabe6"
      },
      "execution_count": 50,
      "outputs": [
        {
          "output_type": "stream",
          "name": "stdout",
          "text": [
            "Test Accuracy: 0.90000%\n"
          ]
        }
      ]
    },
    {
      "cell_type": "code",
      "source": [
        "# cv2_imshow(np.array(loaded_anchor_images[0]).reshape(320,320))\n",
        "# cv2_imshow(np.array(loaded_positive_images[0].reshape(320,320)))\n",
        "# cv2_imshow(np.array(loaded_negative_images[0].reshape(320,320)))\n",
        "# anchor_embedding = embedding_model(anchor_scattering[:,1:,:,:])\n",
        "# positive_embedding = embedding_model(positive_scattering[:,1:,:,:])\n",
        "# negative_embedding = embedding_model(negative_scattering[:,1:,:,:])\n",
        "# positive_distance = torch.sum((anchor_embedding - positive_embedding).pow(2), dim=1)\n",
        "# negative_distance = torch.sum((anchor_embedding - negative_embedding).pow(2), dim=1)"
      ],
      "metadata": {
        "id": "HSIzVuh8fkDS"
      },
      "execution_count": 51,
      "outputs": []
    },
    {
      "cell_type": "code",
      "source": [
        "print(positive_distance[0])\n",
        "print(negative_distance[0])"
      ],
      "metadata": {
        "colab": {
          "base_uri": "https://localhost:8080/"
        },
        "id": "GWFhyLJeidlQ",
        "outputId": "56e41a6a-dafa-437b-9ec2-ee1edde488b5"
      },
      "execution_count": 52,
      "outputs": [
        {
          "output_type": "stream",
          "name": "stdout",
          "text": [
            "tensor(61.1050)\n",
            "tensor(970.6813)\n"
          ]
        }
      ]
    },
    {
      "cell_type": "code",
      "source": [
        "img2 = np.array(loaded_anchor_images[0].reshape(320,320))\n",
        "img1 = np.array(loaded_positive_images[0].reshape(320,320))\n",
        "img3 = np.array(loaded_negative_images[0].reshape(320,320))\n",
        "stacked_img = np.hstack((img1, img2, img3))\n",
        "\n",
        "# # Display the stacked image\n",
        "# plt.imshow(stacked_img)\n",
        "# plt.axis('off')\n",
        "# plt.show()\n",
        "# print(positive_distance[0])\n",
        "# print(negative_distance[0])"
      ],
      "metadata": {
        "id": "U9FKZ8WOi_Vw"
      },
      "execution_count": 54,
      "outputs": []
    },
    {
      "cell_type": "code",
      "source": [
        "import cv2\n",
        "\n",
        "# Ensure all images have the same height\n",
        "height = min(img1.shape[0], img2.shape[0], img3.shape[0])\n",
        "\n",
        "# Resize images to have the same height\n",
        "img1 = cv2.resize(img1, (int(img1.shape[1] * height / img1.shape[0]), height))\n",
        "img2 = cv2.resize(img2, (int(img2.shape[1] * height / img2.shape[0]), height))\n",
        "img3 = cv2.resize(img3, (int(img3.shape[1] * height / img3.shape[0]), height))\n",
        "\n",
        "# Stack images horizontally\n",
        "stacked_img = np.hstack((img1, img2, img3))\n",
        "\n",
        "# Add labels to the stacked image\n",
        "label1 = f'{positive_distance[0]:.2f}'\n",
        "label2 = f'0.00'  # Assuming anchor distance is always 0\n",
        "label3 = f'{negative_distance[0]:.2f}'\n",
        "\n",
        "font = cv2.FONT_HERSHEY_SIMPLEX\n",
        "font_scale = 1\n",
        "font_thickness = 1\n",
        "font_color = (255, 255, 255)  # White color\n",
        "\n",
        "cv2.putText(stacked_img, label1, (10, height - 20), font, font_scale, font_color, font_thickness)\n",
        "cv2.putText(stacked_img, label2, (img1.shape[1] + 10, height - 20), font, font_scale, font_color, font_thickness)\n",
        "cv2.putText(stacked_img, label3, (img1.shape[1] + img2.shape[1] + 10, height - 20), font, font_scale, font_color, font_thickness)\n",
        "\n",
        "# Display the stacked and labeled image\n",
        "cv2_imshow(stacked_img)"
      ],
      "metadata": {
        "colab": {
          "base_uri": "https://localhost:8080/",
          "height": 337
        },
        "id": "vfOy027-js_G",
        "outputId": "ef292857-9fb2-41fd-c4ec-c46ccc610ee8"
      },
      "execution_count": 55,
      "outputs": [
        {
          "output_type": "display_data",
          "data": {
            "text/plain": [
              "<PIL.Image.Image image mode=L size=960x320>"
            ],
            "image/png": "[encoded data removed]"
          },
          "metadata": {}
        }
      ]
    },
    {
      "cell_type": "markdown",
      "source": [
        "# CNN TRIPLET SIAMESE NETWORK"
      ],
      "metadata": {
        "id": "Q13Z-WFD_kJM"
      }
    },
    {
      "cell_type": "code",
      "source": [
        "from tensorflow.keras.models import Model\n",
        "from tensorflow.keras.layers import Input, Conv2D, MaxPooling2D, Flatten, Dense, Lambda\n",
        "from tensorflow.keras import backend as K\n",
        "\n",
        "def create_cnn_block(input_shape):\n",
        "    # Define a basic CNN block\n",
        "    input_layer = Input(shape=input_shape)# 320,320\n",
        "    x = Conv2D(32, (5, 5), activation='relu')(input_layer)# 316,316\n",
        "    x = MaxPooling2D((2, 2))(x)# 158,158\n",
        "    x = Conv2D(64, (3, 3), activation='relu')(x) # 156,156\n",
        "    x = MaxPooling2D((2, 2))(x)# 78,78\n",
        "    x = Conv2D(64, (3, 3), activation='relu')(x)# 76,76\n",
        "    x = MaxPooling2D((2, 2))(x)# 38,38\n",
        "    x = Conv2D(128, (3, 3), activation='relu')(x)# 36,36\n",
        "    x = MaxPooling2D((2, 2))(x)# 18,18\n",
        "    x = Conv2D(128, (3, 3), activation='relu')(x)# 16,16\n",
        "    x = MaxPooling2D((2, 2))(x)# 8,8,128\n",
        "\n",
        "    x = Flatten()(x)\n",
        "    x = Dense(512, activation='relu')(x)\n",
        "    x = Dense(256, activation='relu')(x)\n",
        "    x = Dense(128, activation='relu')(x)\n",
        "    return Model(input_layer, x)\n",
        "\n",
        "def triplet_siamese_model(input_shape):\n",
        "    # Create the anchor, positive, and negative inputs\n",
        "    anchor_input = Input(shape=input_shape, name='anchor_input')\n",
        "    positive_input = Input(shape=input_shape, name='positive_input')\n",
        "    negative_input = Input(shape=input_shape, name='negative_input')\n",
        "\n",
        "    # Shared CNN block\n",
        "    cnn_block = create_cnn_block(input_shape)\n",
        "\n",
        "    # Process each input image through the shared CNN\n",
        "    anchor_embedding = cnn_block(anchor_input)\n",
        "    positive_embedding = cnn_block(positive_input)\n",
        "    negative_embedding = cnn_block(negative_input)\n",
        "\n",
        "\n",
        "    # Merge the anchor, positive, and negative embeddings\n",
        "    merged_output = Lambda(lambda x: K.concatenate(x, axis=1))([anchor_embedding, positive_embedding, negative_embedding])\n",
        "\n",
        "    # Create the triplet Siamese model\n",
        "    model = Model(inputs=[anchor_input, positive_input, negative_input], outputs=merged_output)\n",
        "    margin = 1.0\n",
        "    triplet_margin_loss = nn.TripletMarginLoss(margin=margin)\n",
        "    model.compile(loss=triplet_margin_loss, optimizer='adam')\n",
        "\n",
        "    return model\n",
        "\n",
        "# Specify the input shape\n",
        "input_shape = (320, 320, 3)\n",
        "\n",
        "# Create the triplet Siamese model\n",
        "model = triplet_siamese_model(input_shape)\n",
        "\n",
        "# Display the model summary\n",
        "model.summary()"
      ],
      "metadata": {
        "colab": {
          "base_uri": "https://localhost:8080/"
        },
        "id": "K9qo7yWs_jCm",
        "outputId": "3a19bf40-8b22-486f-c6a6-e126ba0fe22a"
      },
      "execution_count": null,
      "outputs": [
        {
          "output_type": "stream",
          "name": "stdout",
          "text": [
            "Model: \"model_15\"\n",
            "__________________________________________________________________________________________________\n",
            " Layer (type)                Output Shape                 Param #   Connected to                  \n",
            "==================================================================================================\n",
            " anchor_input (InputLayer)   [(None, 320, 320, 3)]        0         []                            \n",
            "                                                                                                  \n",
            " positive_input (InputLayer  [(None, 320, 320, 3)]        0         []                            \n",
            " )                                                                                                \n",
            "                                                                                                  \n",
            " negative_input (InputLayer  [(None, 320, 320, 3)]        0         []                            \n",
            " )                                                                                                \n",
            "                                                                                                  \n",
            " model_14 (Functional)       (None, 128)                  4638336   ['anchor_input[0][0]',        \n",
            "                                                                     'positive_input[0][0]',      \n",
            "                                                                     'negative_input[0][0]']      \n",
            "                                                                                                  \n",
            " lambda_7 (Lambda)           (None, 384)                  0         ['model_14[0][0]',            \n",
            "                                                                     'model_14[1][0]',            \n",
            "                                                                     'model_14[2][0]']            \n",
            "                                                                                                  \n",
            "==================================================================================================\n",
            "Total params: 4638336 (17.69 MB)\n",
            "Trainable params: 4638336 (17.69 MB)\n",
            "Non-trainable params: 0 (0.00 Byte)\n",
            "__________________________________________________________________________________________________\n"
          ]
        }
      ]
    },
    {
      "cell_type": "code",
      "source": [],
      "metadata": {
        "id": "I2txRAix4nQa"
      },
      "execution_count": null,
      "outputs": []
    }
  ]
}